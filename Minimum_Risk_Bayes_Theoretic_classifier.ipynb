{
  "nbformat": 4,
  "nbformat_minor": 0,
  "metadata": {
    "anaconda-cloud": {},
    "kernelspec": {
      "display_name": "Python 3",
      "language": "python",
      "name": "python3"
    },
    "language_info": {
      "codemirror_mode": {
        "name": "ipython",
        "version": 3
      },
      "file_extension": ".py",
      "mimetype": "text/x-python",
      "name": "python",
      "nbconvert_exporter": "python",
      "pygments_lexer": "ipython3",
      "version": "3.5.5"
    },
    "colab": {
      "provenance": [],
      "include_colab_link": true
    }
  },
  "cells": [
    {
      "cell_type": "markdown",
      "metadata": {
        "id": "view-in-github",
        "colab_type": "text"
      },
      "source": [
        "<a href=\"https://colab.research.google.com/github/saketh1999/Minimum-Risk-Bayes-Theoretic-classifier/blob/main/Minimum_Risk_Bayes_Theoretic_classifier.ipynb\" target=\"_parent\"><img src=\"https://colab.research.google.com/assets/colab-badge.svg\" alt=\"Open In Colab\"/></a>"
      ]
    },
    {
      "cell_type": "markdown",
      "metadata": {
        "collapsed": true,
        "id": "d1jvXBfCDRqN"
      },
      "source": [
        "# DISCRIMINANT ANALYSIS\n",
        "\n",
        "In this coding assignment you are to implement a Minimum Risk Bayes Decision Theoretic classifier. Use the training set to train the classifier and the validation set to evaluate the accuracy.\n",
        "\n",
        "Assume the following:\n",
        "1. All conditional density functions are multivariate Gaussian\n",
        "2. Each class has its own covariance matrix\n",
        "3. Equal prior probabilities\n",
        "4. 0-1 loss function\n"
      ]
    },
    {
      "cell_type": "markdown",
      "metadata": {
        "id": "-d-qRoESDRqP"
      },
      "source": [
        "## Load datasets"
      ]
    },
    {
      "cell_type": "code",
      "metadata": {
        "id": "a5tFsCiqDRqQ",
        "colab": {
          "base_uri": "https://localhost:8080/"
        },
        "outputId": "27e2b9f8-433f-4464-9fb0-d21676a3b6a7"
      },
      "source": [
        "import numpy as np\n",
        "import pandas as pd\n",
        "import matplotlib.pyplot as plt\n",
        "\n",
        "# Load training data - 135 observations, 4 features, 3 classes,\n",
        "df = pd.read_csv(\"iris_corrupted_training_dataset.csv\")\n",
        "print(df.head())\n",
        "df = df.values\n",
        "train_data = df\n",
        "\n",
        "# Load validation data - 15 samples\n",
        "df = pd.read_csv(\"iris_validation_dataset.csv\")\n",
        "print(df.head())\n",
        "df = df.values\n",
        "val_data = df"
      ],
      "execution_count": null,
      "outputs": [
        {
          "output_type": "stream",
          "name": "stdout",
          "text": [
            "   sepal_length   sepal_width   petal_length   petal_width   class\n",
            "0        5.7147        2.6743         3.2696       1.65440       2\n",
            "1        5.1734        3.7374         5.9442       3.00050       3\n",
            "2        7.3776        3.1505         3.3543       0.64839       2\n",
            "3        6.4908        2.3983         3.3917       1.54950       2\n",
            "4        6.8182        3.4016         4.7495       0.57970       3\n",
            "   sepal_length   sepal_width   petal_length   petal_width   class\n",
            "0           4.4           2.9            1.4           0.2       1\n",
            "1           6.7           3.0            5.2           2.3       3\n",
            "2           4.9           3.1            1.5           0.2       1\n",
            "3           5.1           2.5            3.0           1.1       2\n",
            "4           6.1           3.0            4.6           1.4       2\n"
          ]
        }
      ]
    },
    {
      "cell_type": "code",
      "source": [
        "## Your code goes here ...\n",
        "# Modifying the training data for easy calculation of mean and covariance\n",
        "\n",
        "train_data1 = train_data[np.where(train_data[:,4]==1),0:4]\n",
        "train_data2 = train_data[np.where(train_data[:,4]==2),0:4]\n",
        "train_data3 = train_data[np.where(train_data[:,4]==3),0:4]\n",
        "[t1d_i,t1d_j,t1d_k]=np.shape(train_data1)\n",
        "\n",
        "train_data1 = train_data1.reshape(t1d_j,t1d_k)\n",
        "train_data2 = train_data2.reshape(t1d_j,t1d_k)\n",
        "train_data3 = train_data3.reshape(t1d_j,t1d_k)\n",
        "\n",
        "#  u1, u2, u3 are the 1x4 mean vectors for train_data1, train_data2, train_data3 matrices\n",
        "u1 = np.mean(train_data1, axis=0, keepdims=True)\n",
        "u2 = np.mean(train_data2, axis=0, keepdims=True)\n",
        "u3 = np.mean(train_data3, axis=0, keepdims=True)\n",
        "print(\"--------------------------------------------------------------------------------------------------------------\")\n",
        "print(\"Mean of each feature with respect to each class\")\n",
        "print(u1.shape)\n",
        "print(u1)\n",
        "print(u2.shape)\n",
        "print(u2)\n",
        "print(u3.shape)\n",
        "print(u3)\n",
        "print(\"--------------------------------------------------------------------------------------------------------------\")\n",
        "\n",
        "#  dimension cov1, cov2, cov3 must be 4x4\n",
        "cov1 = np.cov(np.transpose(train_data1))\n",
        "cov2 = np.cov(np.transpose(train_data2))\n",
        "cov3 = np.cov(np.transpose(train_data3))\n",
        "print(\"Covariance matrix of each class\")\n",
        "print(cov1.shape)\n",
        "print(cov1)\n",
        "print(cov2.shape)\n",
        "print(cov2)\n",
        "print(cov3.shape)\n",
        "print(cov3)\n",
        "print(\"--------------------------------------------------------------------------------------------------------------\")\n",
        "\n",
        "# Compute the determinant of cov* and its log. These are scalar quantities\n",
        "det_cov1 = np.linalg.det(cov1)\n",
        "det_cov2 = np.linalg.det(cov2)\n",
        "det_cov3 = np.linalg.det(cov3)\n",
        "\n",
        "log_det_cov1 = np.log(det_cov1)\n",
        "log_det_cov2 = np.log(det_cov2)\n",
        "log_det_cov3 = np.log(det_cov3)\n",
        "print(\"Log Determinants of covariances\")\n",
        "print(log_det_cov1)\n",
        "print(log_det_cov2)\n",
        "print(log_det_cov3)\n",
        "print(\"--------------------------------------------------------------------------------------------------------------\")\n",
        "\n",
        "inv_cov1 = np.linalg.inv(cov1)\n",
        "inv_cov2 = np.linalg.inv(cov2)\n",
        "inv_cov3 = np.linalg.inv(cov3)\n",
        "print(\"Inverse of each covariance matrix\")\n",
        "print(inv_cov1)\n",
        "print(inv_cov2)\n",
        "print(inv_cov3)\n",
        "print(\"--------------------------------------------------------------------------------------------------------------\")\n",
        "\n",
        "# Equally likely proir prob.\n",
        "log_prior = np.log(1/3)"
      ],
      "metadata": {
        "id": "25yB3y3oSIxO",
        "outputId": "025b757a-a22c-438c-d491-609ebee15194",
        "colab": {
          "base_uri": "https://localhost:8080/"
        }
      },
      "execution_count": null,
      "outputs": [
        {
          "output_type": "stream",
          "name": "stdout",
          "text": [
            "--------------------------------------------------------------------------------------------------------------\n",
            "Mean of each feature with respect to each class\n",
            "(1, 4)\n",
            "[[4.80081778 3.48799556 1.26920989 0.34787733]]\n",
            "(1, 4)\n",
            "[[6.06588222 2.82287978 4.26241333 1.10785197]]\n",
            "(1, 4)\n",
            "[[6.42966    2.95656956 5.55874667 1.92476547]]\n",
            "--------------------------------------------------------------------------------------------------------------\n",
            "Covariance matrix of each class\n",
            "(4, 4)\n",
            "[[ 0.73847372 -0.09788292  0.162097    0.09430334]\n",
            " [-0.09788292  1.04517177  0.08250472  0.06122466]\n",
            " [ 0.162097    0.08250472  0.75386746  0.07747734]\n",
            " [ 0.09430334  0.06122466  0.07747734  0.51347455]]\n",
            "(4, 4)\n",
            "[[ 1.02666705  0.16051089  0.28736137 -0.10850815]\n",
            " [ 0.16051089  0.80414317  0.20221368 -0.07318826]\n",
            " [ 0.28736137  0.20221368  0.74048204 -0.04380217]\n",
            " [-0.10850815 -0.07318826 -0.04380217  0.69674064]]\n",
            "(4, 4)\n",
            "[[1.36272732 0.26608677 0.44568822 0.30336696]\n",
            " [0.26608677 1.03934606 0.12853287 0.18437967]\n",
            " [0.44568822 0.12853287 0.69605886 0.23021863]\n",
            " [0.30336696 0.18437967 0.23021863 0.85756954]]\n",
            "--------------------------------------------------------------------------------------------------------------\n",
            "Log Determinants of covariances\n",
            "-1.3248622521912\n",
            "-1.0719979187496826\n",
            "-0.5975807265292516\n",
            "--------------------------------------------------------------------------------------------------------------\n",
            "Inverse of each covariance matrix\n",
            "[[ 1.47745169  0.17736287 -0.31186925 -0.24543537]\n",
            " [ 0.17736287  0.99156381 -0.13322263 -0.13070235]\n",
            " [-0.31186925 -0.13322263  1.42267428 -0.14150302]\n",
            " [-0.24543537 -0.13070235 -0.14150302  2.02952778]]\n",
            "[[ 1.11641044 -0.1110607  -0.39479376  0.13738034]\n",
            " [-0.1110607   1.35599941 -0.32099289  0.1049631 ]\n",
            " [-0.39479376 -0.32099289  1.591626    0.00485894]\n",
            " [ 0.13738034  0.1049631   0.00485894  1.46798066]]\n",
            "[[ 0.97865891 -0.15371419 -0.54288152 -0.16741449]\n",
            " [-0.15371419  1.03439198 -0.04061986 -0.15711565]\n",
            " [-0.54288152 -0.04061986  1.89348572 -0.30753646]\n",
            " [-0.16741449 -0.15711565 -0.30753646  1.3416493 ]]\n",
            "--------------------------------------------------------------------------------------------------------------\n"
          ]
        }
      ]
    },
    {
      "cell_type": "code",
      "source": [
        "# Function to find the discriminant function values\n",
        "\n",
        "def discriminant(val_data_x, mean_vector, inv_cov, log_det, prior):\n",
        "  result=0\n",
        "  sub_term = val_data_x - mean_vector\n",
        "  term1 = (1/2)*np.matmul((sub_term),np.matmul(inv_cov,np.transpose(sub_term)))\n",
        "  term2 = log_det/2\n",
        "  result = prior - term1 - term2\n",
        "  return result[0][0]"
      ],
      "metadata": {
        "id": "H_dAjzFXixrt"
      },
      "execution_count": null,
      "outputs": []
    },
    {
      "cell_type": "code",
      "source": [
        "# Evaluate the model accuracy with the validation dataset\n",
        "# The dimension of the validation dataset, val_data, is 15x5. The first four\n",
        "# columns are the feature columns and the last column is the class label column\n",
        "\n",
        "correct_class = 0;  # number of correctly predicted label\n",
        "y_hat=[]\n",
        "for i in range(0, len(val_data)):\n",
        "\n",
        "    x = val_data[i,0:4]\n",
        "    y = val_data[i,4]\n",
        "\n",
        "    # Caculating g1, g2, g3\n",
        "    g1=discriminant(x,u1,inv_cov1,log_det_cov1,log_prior)\n",
        "    g2=discriminant(x,u2,inv_cov2,log_det_cov2,log_prior)\n",
        "    g3=discriminant(x,u3,inv_cov3,log_det_cov3,log_prior)\n",
        "\n",
        "    #  Now find the predicted class y_hat, compare it with the true label y\n",
        "    #  and count the number of corectly predicted labels (correct_class)\n",
        "    if g1>g2:\n",
        "        if g1>g3:\n",
        "            y_hat.append(1)\n",
        "        else:\n",
        "            y_hat.append(3)\n",
        "    else:\n",
        "        if g2>g3:\n",
        "            y_hat.append(2)\n",
        "        else:\n",
        "            y_hat.append(3)\n",
        "    if (y_hat[i] == y):\n",
        "        correct_class = correct_class + 1\n",
        "\n",
        "print('Classification accuracy = ', '{0:.4f}'. format(correct_class/15))"
      ],
      "metadata": {
        "id": "ZrYTaoTci07s",
        "outputId": "62745a4a-2c0c-48eb-eb3b-e3fc89e5bee9",
        "colab": {
          "base_uri": "https://localhost:8080/"
        }
      },
      "execution_count": null,
      "outputs": [
        {
          "output_type": "stream",
          "name": "stdout",
          "text": [
            "Classification accuracy =  0.9333\n"
          ]
        }
      ]
    }
  ]
}